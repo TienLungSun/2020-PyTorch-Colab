{
 "cells": [
  {
   "cell_type": "code",
   "execution_count": 1,
   "metadata": {
    "executionInfo": {
     "elapsed": 3626,
     "status": "ok",
     "timestamp": 1605760863615,
     "user": {
      "displayName": "Tien-Lung Sun",
      "photoUrl": "",
      "userId": "03463180410591271716"
     },
     "user_tz": -480
    },
    "id": "a1kFKiHzQajW"
   },
   "outputs": [],
   "source": [
    "import torch\n",
    "import torch.nn as nn"
   ]
  },
  {
   "cell_type": "markdown",
   "metadata": {
    "id": "4s4g_ujnQajv"
   },
   "source": [
    "# Build NN"
   ]
  },
  {
   "cell_type": "code",
   "execution_count": 2,
   "metadata": {
    "colab": {
     "base_uri": "https://localhost:8080/"
    },
    "executionInfo": {
     "elapsed": 937,
     "status": "ok",
     "timestamp": 1605760876015,
     "user": {
      "displayName": "Tien-Lung Sun",
      "photoUrl": "",
      "userId": "03463180410591271716"
     },
     "user_tz": -480
    },
    "id": "-MvLGgYaQajy",
    "outputId": "8163e6a3-3b83-43a9-950a-69059b0e1eb9"
   },
   "outputs": [
    {
     "name": "stdout",
     "output_type": "stream",
     "text": [
      "Sequential(\n",
      "  (0): Linear(in_features=2, out_features=3, bias=True)\n",
      "  (1): Linear(in_features=3, out_features=2, bias=True)\n",
      "  (2): Linear(in_features=2, out_features=1, bias=True)\n",
      ")\n"
     ]
    }
   ],
   "source": [
    "MyNet = nn.Sequential(\n",
    "        nn.Linear(2, 3),\n",
    "        nn.Linear(3, 2),\n",
    "        nn.Linear(2, 1)\n",
    ")\n",
    "print(MyNet)"
   ]
  },
  {
   "cell_type": "code",
   "execution_count": 3,
   "metadata": {
    "colab": {
     "base_uri": "https://localhost:8080/"
    },
    "executionInfo": {
     "elapsed": 920,
     "status": "ok",
     "timestamp": 1605760987636,
     "user": {
      "displayName": "Tien-Lung Sun",
      "photoUrl": "",
      "userId": "03463180410591271716"
     },
     "user_tz": -480
    },
    "id": "h9pgtjB2Qaj0",
    "outputId": "fb4a5f1e-010f-4aaf-cc83-3073c8ecae6f"
   },
   "outputs": [
    {
     "name": "stdout",
     "output_type": "stream",
     "text": [
      "tensor([[ 0.5298,  0.5403],\n",
      "        [-0.1335,  0.0788],\n",
      "        [-0.0644,  0.3744]])\n",
      "tensor([-0.1011,  0.6955,  0.4993])\n",
      "tensor([[-0.0378,  0.5643,  0.3768],\n",
      "        [ 0.4877,  0.3100, -0.1657]])\n",
      "tensor([-0.2588, -0.4216])\n",
      "tensor([[-0.0536, -0.1939]])\n",
      "tensor([0.5564])\n"
     ]
    }
   ],
   "source": [
    "for param in MyNet.parameters():\n",
    "    if param.requires_grad:\n",
    "        print(param.data)"
   ]
  },
  {
   "cell_type": "markdown",
   "metadata": {},
   "source": [
    "# Prepare input data"
   ]
  },
  {
   "cell_type": "code",
   "execution_count": 4,
   "metadata": {
    "colab": {
     "base_uri": "https://localhost:8080/"
    },
    "executionInfo": {
     "elapsed": 958,
     "status": "ok",
     "timestamp": 1605760992897,
     "user": {
      "displayName": "Tien-Lung Sun",
      "photoUrl": "",
      "userId": "03463180410591271716"
     },
     "user_tz": -480
    },
    "id": "TfDLpOKCQajk",
    "outputId": "b30ef6d4-1fc4-47c0-e35c-8ed68a277be7"
   },
   "outputs": [
    {
     "name": "stdout",
     "output_type": "stream",
     "text": [
      "tensor([[ 1.,  2.],\n",
      "        [ 2.,  3.],\n",
      "        [10.,  5.]]) \n",
      " torch.Size([3, 2])\n"
     ]
    }
   ],
   "source": [
    "lstX = [ [1, 2], [2, 3], [10, 5]]\n",
    "tensorX = torch.FloatTensor(lstX)\n",
    "print(tensorX, \"\\n\", tensorX.shape)"
   ]
  },
  {
   "cell_type": "code",
   "execution_count": 5,
   "metadata": {
    "colab": {
     "base_uri": "https://localhost:8080/"
    },
    "executionInfo": {
     "elapsed": 1054,
     "status": "ok",
     "timestamp": 1605760998223,
     "user": {
      "displayName": "Tien-Lung Sun",
      "photoUrl": "",
      "userId": "03463180410591271716"
     },
     "user_tz": -480
    },
    "id": "ltYcOMMzQajp",
    "outputId": "dd4e7eb5-6d09-4298-800b-58207618c15c"
   },
   "outputs": [
    {
     "name": "stdout",
     "output_type": "stream",
     "text": [
      "tensor([[ 7.],\n",
      "        [12.],\n",
      "        [40.]]) \n",
      " torch.Size([3, 1])\n"
     ]
    }
   ],
   "source": [
    "lstY = [[7], [12], [40]]  # y=3x1+2x2\n",
    "tensorY = torch.FloatTensor(lstY)\n",
    "print(tensorY, '\\n', tensorY.shape)"
   ]
  },
  {
   "cell_type": "markdown",
   "metadata": {
    "id": "9r8UKLpHQaj6"
   },
   "source": [
    "# Forward propagation 練習"
   ]
  },
  {
   "cell_type": "code",
   "execution_count": 6,
   "metadata": {
    "colab": {
     "base_uri": "https://localhost:8080/"
    },
    "executionInfo": {
     "elapsed": 973,
     "status": "ok",
     "timestamp": 1605761008348,
     "user": {
      "displayName": "Tien-Lung Sun",
      "photoUrl": "",
      "userId": "03463180410591271716"
     },
     "user_tz": -480
    },
    "id": "SOa9AGDkQaj9",
    "outputId": "c1a9343a-e7ee-487c-9196-ed0fea1efbe4"
   },
   "outputs": [
    {
     "name": "stdout",
     "output_type": "stream",
     "text": [
      "Parameter containing:\n",
      "tensor([[ 0.5298,  0.5403],\n",
      "        [-0.1335,  0.0788],\n",
      "        [-0.0644,  0.3744]], requires_grad=True) torch.Size([3, 2]) Parameter containing:\n",
      "tensor([-0.1011,  0.6955,  0.4993], requires_grad=True)\n"
     ]
    }
   ],
   "source": [
    "W1 = MyNet[0].weight\n",
    "b1 = MyNet[0].bias   \n",
    "print(W1, W1.shape, b1)"
   ]
  },
  {
   "cell_type": "code",
   "execution_count": 7,
   "metadata": {
    "colab": {
     "base_uri": "https://localhost:8080/"
    },
    "executionInfo": {
     "elapsed": 1077,
     "status": "ok",
     "timestamp": 1605761014504,
     "user": {
      "displayName": "Tien-Lung Sun",
      "photoUrl": "",
      "userId": "03463180410591271716"
     },
     "user_tz": -480
    },
    "id": "tan3fAtiQaj6",
    "outputId": "17d117c5-a30f-49d9-91ca-39317e02a60c"
   },
   "outputs": [
    {
     "name": "stdout",
     "output_type": "stream",
     "text": [
      "tensor([[ 1.5093,  0.7196,  1.1837],\n",
      "        [ 2.5794,  0.6649,  1.4937],\n",
      "        [ 7.8983, -0.2451,  1.7276]], grad_fn=<AddmmBackward>)\n"
     ]
    }
   ],
   "source": [
    "#3筆 input 的 n3, n4, n5\n",
    "HiddenLayer1 = MyNet[0](tensorX)  \n",
    "print(HiddenLayer1)"
   ]
  },
  {
   "cell_type": "code",
   "execution_count": 8,
   "metadata": {
    "colab": {
     "base_uri": "https://localhost:8080/"
    },
    "executionInfo": {
     "elapsed": 927,
     "status": "ok",
     "timestamp": 1605761017579,
     "user": {
      "displayName": "Tien-Lung Sun",
      "photoUrl": "",
      "userId": "03463180410591271716"
     },
     "user_tz": -480
    },
    "id": "nLdkJ4COQaj_",
    "outputId": "ec23f1f7-a186-413e-885d-cbcea1d9b6f0"
   },
   "outputs": [
    {
     "name": "stdout",
     "output_type": "stream",
     "text": [
      "tensor([[ 1.5093,  0.7196,  1.1837],\n",
      "        [ 2.5794,  0.6649,  1.4937],\n",
      "        [ 7.8983, -0.2451,  1.7276]], grad_fn=<AddBackward0>)\n"
     ]
    }
   ],
   "source": [
    "# 自己用矩陣相乘驗證 3筆 input 的 n3, n4, n5\n",
    "HiddenLayer1 = tensorX.mm(torch.transpose(W1, 1, 0)) + b1\n",
    "print(HiddenLayer1)"
   ]
  },
  {
   "cell_type": "code",
   "execution_count": 9,
   "metadata": {
    "colab": {
     "base_uri": "https://localhost:8080/"
    },
    "executionInfo": {
     "elapsed": 932,
     "status": "ok",
     "timestamp": 1605761019646,
     "user": {
      "displayName": "Tien-Lung Sun",
      "photoUrl": "",
      "userId": "03463180410591271716"
     },
     "user_tz": -480
    },
    "id": "huI72Ze6QakC",
    "outputId": "ebf1bd98-ce54-4fe2-9e05-b2a598b4a35e"
   },
   "outputs": [
    {
     "name": "stdout",
     "output_type": "stream",
     "text": [
      "tensor([[ 0.5362,  0.3414],\n",
      "        [ 0.5817,  0.7950],\n",
      "        [-0.0451,  3.0682]], grad_fn=<AddmmBackward>)\n"
     ]
    }
   ],
   "source": [
    "#3筆 input 的 n6, n7\n",
    "HiddenLayer2 = MyNet[1](HiddenLayer1)\n",
    "print(HiddenLayer2)"
   ]
  },
  {
   "cell_type": "code",
   "execution_count": 10,
   "metadata": {
    "colab": {
     "base_uri": "https://localhost:8080/"
    },
    "executionInfo": {
     "elapsed": 702,
     "status": "ok",
     "timestamp": 1605761021103,
     "user": {
      "displayName": "Tien-Lung Sun",
      "photoUrl": "",
      "userId": "03463180410591271716"
     },
     "user_tz": -480
    },
    "id": "pGw5IXeiQakE",
    "outputId": "a6742e0b-701e-454b-f12d-e337fe6670dc"
   },
   "outputs": [
    {
     "name": "stdout",
     "output_type": "stream",
     "text": [
      "tensor([[ 0.5362,  0.3414],\n",
      "        [ 0.5817,  0.7950],\n",
      "        [-0.0451,  3.0682]], grad_fn=<AddBackward0>)\n"
     ]
    }
   ],
   "source": [
    "# 自己用矩陣相乘驗證3筆 input 的 n6, n7\n",
    "W2 = MyNet[1].weight\n",
    "b2 = MyNet[1].bias  \n",
    "HiddenLayer2 = HiddenLayer1.mm(torch.transpose(W2, 1, 0)) +b2\n",
    "print(HiddenLayer2)"
   ]
  },
  {
   "cell_type": "code",
   "execution_count": 11,
   "metadata": {
    "colab": {
     "base_uri": "https://localhost:8080/"
    },
    "executionInfo": {
     "elapsed": 568,
     "status": "ok",
     "timestamp": 1605761022478,
     "user": {
      "displayName": "Tien-Lung Sun",
      "photoUrl": "",
      "userId": "03463180410591271716"
     },
     "user_tz": -480
    },
    "id": "csq95L-dT-KF",
    "outputId": "b98f1cf4-bfb3-49e2-8ebd-7a1d66b27987"
   },
   "outputs": [
    {
     "name": "stdout",
     "output_type": "stream",
     "text": [
      "tensor([[ 0.4615],\n",
      "        [ 0.3711],\n",
      "        [-0.0360]], grad_fn=<AddmmBackward>)\n"
     ]
    }
   ],
   "source": [
    "#3筆 input 的 y1\n",
    "tensorY1= MyNet[2](HiddenLayer2)\n",
    "print(tensorY1)"
   ]
  },
  {
   "cell_type": "code",
   "execution_count": 12,
   "metadata": {
    "colab": {
     "base_uri": "https://localhost:8080/"
    },
    "executionInfo": {
     "elapsed": 757,
     "status": "ok",
     "timestamp": 1605761023953,
     "user": {
      "displayName": "Tien-Lung Sun",
      "photoUrl": "",
      "userId": "03463180410591271716"
     },
     "user_tz": -480
    },
    "id": "9R2ciSdmUG4C",
    "outputId": "8948cc46-deaa-4431-fbc0-4f5d1454df27"
   },
   "outputs": [
    {
     "name": "stdout",
     "output_type": "stream",
     "text": [
      "tensor([[ 0.4615],\n",
      "        [ 0.3711],\n",
      "        [-0.0360]], grad_fn=<AddBackward0>)\n"
     ]
    }
   ],
   "source": [
    "# 自己用矩陣相乘驗證3筆 input 的 y1\n",
    "W3 = MyNet[2].weight\n",
    "b3 = MyNet[2].bias  \n",
    "tensorY1 = HiddenLayer2.mm(torch.transpose(W3, 1, 0)) +b3\n",
    "print(tensorY1)"
   ]
  },
  {
   "cell_type": "code",
   "execution_count": 13,
   "metadata": {
    "colab": {
     "base_uri": "https://localhost:8080/"
    },
    "executionInfo": {
     "elapsed": 567,
     "status": "ok",
     "timestamp": 1605761025304,
     "user": {
      "displayName": "Tien-Lung Sun",
      "photoUrl": "",
      "userId": "03463180410591271716"
     },
     "user_tz": -480
    },
    "id": "8flPoiKRUR5h",
    "outputId": "6e135ae5-112e-46cf-bdae-ee9f53c91f1c"
   },
   "outputs": [
    {
     "name": "stdout",
     "output_type": "stream",
     "text": [
      "tensor([[ 0.4615],\n",
      "        [ 0.3711],\n",
      "        [-0.0360]], grad_fn=<AddmmBackward>)\n"
     ]
    }
   ],
   "source": [
    "# 一次計算3筆 input 的 y1\n",
    "tensorY1= MyNet(tensorX)\n",
    "print(tensorY1)"
   ]
  },
  {
   "cell_type": "markdown",
   "metadata": {
    "id": "lrQnLgEZQakH"
   },
   "source": [
    "# Backward propagation"
   ]
  },
  {
   "cell_type": "code",
   "execution_count": 14,
   "metadata": {
    "executionInfo": {
     "elapsed": 1173,
     "status": "ok",
     "timestamp": 1605761028604,
     "user": {
      "displayName": "Tien-Lung Sun",
      "photoUrl": "",
      "userId": "03463180410591271716"
     },
     "user_tz": -480
    },
    "id": "Ia_wDva8QakH"
   },
   "outputs": [],
   "source": [
    "import torch.optim as optim"
   ]
  },
  {
   "cell_type": "code",
   "execution_count": 15,
   "metadata": {
    "executionInfo": {
     "elapsed": 896,
     "status": "ok",
     "timestamp": 1605761030123,
     "user": {
      "displayName": "Tien-Lung Sun",
      "photoUrl": "",
      "userId": "03463180410591271716"
     },
     "user_tz": -480
    },
    "id": "lWfOVMDTQakJ"
   },
   "outputs": [],
   "source": [
    "loss_func = nn.MSELoss()"
   ]
  },
  {
   "cell_type": "code",
   "execution_count": 17,
   "metadata": {
    "executionInfo": {
     "elapsed": 896,
     "status": "ok",
     "timestamp": 1605761067013,
     "user": {
      "displayName": "Tien-Lung Sun",
      "photoUrl": "",
      "userId": "03463180410591271716"
     },
     "user_tz": -480
    },
    "id": "h2Gomi9uQakL"
   },
   "outputs": [],
   "source": [
    "optimizer = optim.Adam(MyNet.parameters(), lr=0.05)"
   ]
  },
  {
   "cell_type": "code",
   "execution_count": 18,
   "metadata": {
    "colab": {
     "base_uri": "https://localhost:8080/"
    },
    "executionInfo": {
     "elapsed": 896,
     "status": "ok",
     "timestamp": 1605761071474,
     "user": {
      "displayName": "Tien-Lung Sun",
      "photoUrl": "",
      "userId": "03463180410591271716"
     },
     "user_tz": -480
    },
    "id": "OCokjzNwQakO",
    "outputId": "49a1951f-6bde-4f4f-afcf-1960d8f366a8"
   },
   "outputs": [
    {
     "name": "stdout",
     "output_type": "stream",
     "text": [
      "tensor(593.6230, grad_fn=<MseLossBackward>) \n",
      " 593.623046875\n"
     ]
    }
   ],
   "source": [
    "loss = loss_func(tensorY1, tensorY)\n",
    "print(loss, '\\n', float(loss))"
   ]
  },
  {
   "cell_type": "code",
   "execution_count": 19,
   "metadata": {
    "executionInfo": {
     "elapsed": 877,
     "status": "ok",
     "timestamp": 1605761073141,
     "user": {
      "displayName": "Tien-Lung Sun",
      "photoUrl": "",
      "userId": "03463180410591271716"
     },
     "user_tz": -480
    },
    "id": "skt79XN7QakQ"
   },
   "outputs": [],
   "source": [
    "optimizer.zero_grad()"
   ]
  },
  {
   "cell_type": "code",
   "execution_count": 20,
   "metadata": {
    "executionInfo": {
     "elapsed": 923,
     "status": "ok",
     "timestamp": 1605761074916,
     "user": {
      "displayName": "Tien-Lung Sun",
      "photoUrl": "",
      "userId": "03463180410591271716"
     },
     "user_tz": -480
    },
    "id": "GbP7TMDoQakS"
   },
   "outputs": [],
   "source": [
    "loss.backward()"
   ]
  },
  {
   "cell_type": "code",
   "execution_count": 21,
   "metadata": {
    "executionInfo": {
     "elapsed": 1402,
     "status": "ok",
     "timestamp": 1605761076953,
     "user": {
      "displayName": "Tien-Lung Sun",
      "photoUrl": "",
      "userId": "03463180410591271716"
     },
     "user_tz": -480
    },
    "id": "hM3Z5BahQakV"
   },
   "outputs": [],
   "source": [
    "optimizer.step()"
   ]
  },
  {
   "cell_type": "markdown",
   "metadata": {
    "id": "yOKJidaQQakZ"
   },
   "source": [
    "# Training Loop"
   ]
  },
  {
   "cell_type": "code",
   "execution_count": 22,
   "metadata": {
    "colab": {
     "base_uri": "https://localhost:8080/"
    },
    "executionInfo": {
     "elapsed": 898,
     "status": "ok",
     "timestamp": 1605761079531,
     "user": {
      "displayName": "Tien-Lung Sun",
      "photoUrl": "",
      "userId": "03463180410591271716"
     },
     "user_tz": -480
    },
    "id": "zdpYknvbQaka",
    "outputId": "9afee3d7-c3e6-4f43-d3bc-5d39df6e55ef"
   },
   "outputs": [
    {
     "name": "stdout",
     "output_type": "stream",
     "text": [
      "581.25, 572.61, 566.05, 559.63, 550.34, 535.87, 515.01, 486.72, 449.84, 403.54, 347.66, 283.04, 212.03, 139.29, 72.76, 24.61, 10.35, 39.33, 89.79, 117.69, 109.39, 79.19, 45.61, 20.98, 9.63, 9.86, 17.15, 26.79, 35.28, "
     ]
    }
   ],
   "source": [
    "lossLst = []\n",
    "for epoch in range(1, 30):\n",
    "    tensorY1 = MyNet(tensorX)\n",
    "    loss = loss_func(tensorY1, tensorY)\n",
    "    loss1 = float(loss)\n",
    "    print(\"%.2f\" % (loss1), end = \", \")\n",
    "    lossLst.append(loss1)\n",
    "    optimizer.zero_grad()\n",
    "    loss.backward()\n",
    "    optimizer.step()"
   ]
  },
  {
   "cell_type": "code",
   "execution_count": 23,
   "metadata": {
    "colab": {
     "base_uri": "https://localhost:8080/",
     "height": 374
    },
    "executionInfo": {
     "elapsed": 1012,
     "status": "ok",
     "timestamp": 1605761114845,
     "user": {
      "displayName": "Tien-Lung Sun",
      "photoUrl": "",
      "userId": "03463180410591271716"
     },
     "user_tz": -480
    },
    "id": "wxUqhxTRQakc",
    "outputId": "53cb8676-2299-4953-b997-27582f9defc9"
   },
   "outputs": [
    {
     "data": {
      "image/png": "[encoded data removed]",
      "text/plain": [
       "<Figure size 864x432 with 1 Axes>"
      ]
     },
     "metadata": {
      "needs_background": "light",
      "tags": []
     },
     "output_type": "display_data"
    }
   ],
   "source": [
    "import matplotlib.pyplot as plt\n",
    "plt.figure(figsize=(12, 6))\n",
    "plt.plot(lossLst)\n",
    "plt.show()"
   ]
  },
  {
   "cell_type": "code",
   "execution_count": null,
   "metadata": {
    "id": "cFwHseFCQake"
   },
   "outputs": [],
   "source": []
  }
 ],
 "metadata": {
  "colab": {
   "collapsed_sections": [],
   "name": "1. 1. Understand MLP .ipynb",
   "provenance": []
  },
  "kernelspec": {
   "display_name": "Python 3",
   "language": "python",
   "name": "python3"
  },
  "language_info": {
   "codemirror_mode": {
    "name": "ipython",
    "version": 3
   },
   "file_extension": ".py",
   "mimetype": "text/x-python",
   "name": "python",
   "nbconvert_exporter": "python",
   "pygments_lexer": "ipython3",
   "version": "3.6.10"
  }
 },
 "nbformat": 4,
 "nbformat_minor": 1
}
