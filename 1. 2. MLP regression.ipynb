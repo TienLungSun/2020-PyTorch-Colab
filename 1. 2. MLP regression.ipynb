{
  "nbformat": 4,
  "nbformat_minor": 0,
  "metadata": {
    "colab": {
      "name": "1. 2. MLP regression.ipynb",
      "provenance": [],
      "collapsed_sections": []
    },
    "kernelspec": {
      "display_name": "Python 3",
      "language": "python",
      "name": "python3"
    },
    "language_info": {
      "codemirror_mode": {
        "name": "ipython",
        "version": 3
      },
      "file_extension": ".py",
      "mimetype": "text/x-python",
      "name": "python",
      "nbconvert_exporter": "python",
      "pygments_lexer": "ipython3",
      "version": "3.6.10"
    },
    "accelerator": "GPU"
  },
  "cells": [
    {
      "cell_type": "code",
      "metadata": {
        "id": "__UqpfWmZk_M"
      },
      "source": [
        "import torch"
      ],
      "execution_count": 1,
      "outputs": []
    },
    {
      "cell_type": "code",
      "metadata": {
        "colab": {
          "base_uri": "https://localhost:8080/"
        },
        "id": "ABW0dcklZddi",
        "outputId": "46194b08-7561-4e67-c617-93378d61c563"
      },
      "source": [
        "if(torch.cuda.is_available()):\n",
        "    device = torch.device(\"cuda\")\n",
        "    print(device, torch.cuda.get_device_name(0))\n",
        "else:\n",
        "    device= torch.device(\"cpu\")\n",
        "    print(device)"
      ],
      "execution_count": 2,
      "outputs": [
        {
          "output_type": "stream",
          "text": [
            "cuda Tesla T4\n"
          ],
          "name": "stdout"
        }
      ]
    },
    {
      "cell_type": "markdown",
      "metadata": {
        "id": "9IKumQZJbtg8"
      },
      "source": [
        "#Generate data"
      ]
    },
    {
      "cell_type": "code",
      "metadata": {
        "id": "eDKfqZTSYA6D"
      },
      "source": [
        "# N=100, x=-5000~5000 step 100, y=3x^2 + 25x + 580\n",
        "lstX = []\n",
        "lstY = []\n",
        "for x in range(-5000, 5000, 100):\n",
        "  lstX.append([x])\n",
        "  y = 3*x*x + 25*x + 580\n",
        "  lstY.append([y])"
      ],
      "execution_count": 23,
      "outputs": []
    },
    {
      "cell_type": "markdown",
      "metadata": {
        "id": "lFpDk0Y-8sJB"
      },
      "source": [
        "#Split input data to train and test data"
      ]
    },
    {
      "cell_type": "code",
      "metadata": {
        "id": "KyPxI--48wJe",
        "colab": {
          "base_uri": "https://localhost:8080/"
        },
        "outputId": "72e3fae3-b330-49a9-a7c0-f9eeec78a11b"
      },
      "source": [
        "import numpy as np\r\n",
        "numpyX = np.array(lstX)\r\n",
        "numpyY = np.array(lstY)\r\n",
        "print(numpyX.shape, numpyY.shape)"
      ],
      "execution_count": 24,
      "outputs": [
        {
          "output_type": "stream",
          "text": [
            "(100, 1) (100, 1)\n"
          ],
          "name": "stdout"
        }
      ]
    },
    {
      "cell_type": "code",
      "metadata": {
        "id": "8ZHmrQS-84st",
        "colab": {
          "base_uri": "https://localhost:8080/"
        },
        "outputId": "a9b18307-aab0-46f1-ef14-e31e3017fcfe"
      },
      "source": [
        "from sklearn.model_selection import train_test_split\r\n",
        "trainX, testX, trainY_hat, testY_hat = train_test_split(numpyX, numpyY, test_size=0.20, random_state=0)\r\n",
        "print(trainX.shape, testX.shape, trainY_hat.shape, testY_hat.shape)"
      ],
      "execution_count": 25,
      "outputs": [
        {
          "output_type": "stream",
          "text": [
            "(80, 1) (20, 1) (80, 1) (20, 1)\n"
          ],
          "name": "stdout"
        }
      ]
    },
    {
      "cell_type": "code",
      "metadata": {
        "id": "GyMi6ytR9T18",
        "colab": {
          "base_uri": "https://localhost:8080/",
          "height": 276
        },
        "outputId": "97d67476-d38e-4011-84be-4edbff67ebce"
      },
      "source": [
        "import matplotlib.pyplot as plt\r\n",
        "plt.figure(figsize=(12, 4))\r\n",
        "plt.scatter(trainX, trainY_hat, color = \"blue\")\r\n",
        "plt.scatter(testX, testY_hat, color = \"red\")\r\n",
        "plt.show()"
      ],
      "execution_count": 27,
      "outputs": [
        {
          "output_type": "display_data",
          "data": {
            "image/png": "[encoded data removed]",
            "text/plain": [
              "<Figure size 864x288 with 1 Axes>"
            ]
          },
          "metadata": {
            "tags": [],
            "needs_background": "light"
          }
        }
      ]
    },
    {
      "cell_type": "markdown",
      "metadata": {
        "id": "4s4g_ujnQajv"
      },
      "source": [
        "# Build NN"
      ]
    },
    {
      "cell_type": "code",
      "metadata": {
        "id": "a1kFKiHzQajW"
      },
      "source": [
        "import torch.nn as nn"
      ],
      "execution_count": 33,
      "outputs": []
    },
    {
      "cell_type": "code",
      "metadata": {
        "colab": {
          "base_uri": "https://localhost:8080/"
        },
        "id": "-MvLGgYaQajy",
        "outputId": "0dc600ce-5fc0-43be-c21e-936295db463e"
      },
      "source": [
        "MyNet = nn.Sequential(\n",
        "    nn.Linear(1, 30),\n",
        "    nn.ReLU(),\n",
        "    nn.Linear(30, 15),\n",
        "    nn.ReLU(),\n",
        "    nn.Linear(15, 1),\n",
        ")\n",
        "MyNet.to(device)\n",
        "print(MyNet)"
      ],
      "execution_count": 34,
      "outputs": [
        {
          "output_type": "stream",
          "text": [
            "Sequential(\n",
            "  (0): Linear(in_features=1, out_features=30, bias=True)\n",
            "  (1): ReLU()\n",
            "  (2): Linear(in_features=30, out_features=15, bias=True)\n",
            "  (3): ReLU()\n",
            "  (4): Linear(in_features=15, out_features=1, bias=True)\n",
            ")\n"
          ],
          "name": "stdout"
        }
      ]
    },
    {
      "cell_type": "code",
      "metadata": {
        "id": "h9pgtjB2Qaj0"
      },
      "source": [
        "loss_func = torch.nn.MSELoss()"
      ],
      "execution_count": 35,
      "outputs": []
    },
    {
      "cell_type": "code",
      "metadata": {
        "id": "TfDLpOKCQajk"
      },
      "source": [
        "optimizer = torch.optim.Adam(MyNet.parameters(), lr=0.005)"
      ],
      "execution_count": 36,
      "outputs": []
    },
    {
      "cell_type": "markdown",
      "metadata": {
        "id": "9r8UKLpHQaj6"
      },
      "source": [
        "# train one step"
      ]
    },
    {
      "cell_type": "code",
      "metadata": {
        "id": "su8r11Ei_oKE"
      },
      "source": [
        "tensorX = torch.FloatTensor(trainX).to(device)\r\n",
        "tensorY_hat = torch.FloatTensor(trainY_hat).to(device)"
      ],
      "execution_count": 37,
      "outputs": []
    },
    {
      "cell_type": "code",
      "metadata": {
        "colab": {
          "base_uri": "https://localhost:8080/"
        },
        "id": "SOa9AGDkQaj9",
        "outputId": "5fd94128-9b67-45b2-8e95-29f845e7567a"
      },
      "source": [
        "tensorY  = MyNet(tensorX)\n",
        "loss = loss_func(tensorY , tensorY_hat)\n",
        "print(float(loss))\n",
        "optimizer.zero_grad()\n",
        "loss.backward()\n",
        "optimizer.step()"
      ],
      "execution_count": 38,
      "outputs": [
        {
          "output_type": "stream",
          "text": [
            "1066317771702272.0\n"
          ],
          "name": "stdout"
        }
      ]
    },
    {
      "cell_type": "markdown",
      "metadata": {
        "id": "yOKJidaQQakZ"
      },
      "source": [
        "# Training Loop"
      ]
    },
    {
      "cell_type": "code",
      "metadata": {
        "id": "zdpYknvbQaka"
      },
      "source": [
        "lossLst = []\n",
        "for epoch in range(1, 2000):\n",
        "    tensorY = MyNet(tensorX)\n",
        "    loss = loss_func(tensorY_hat, tensorY)\n",
        "    loss1 = float(loss)\n",
        "    lossLst.append(float(loss))\n",
        "    optimizer.zero_grad()\n",
        "    loss.backward()\n",
        "    optimizer.step()"
      ],
      "execution_count": 39,
      "outputs": []
    },
    {
      "cell_type": "code",
      "metadata": {
        "colab": {
          "base_uri": "https://localhost:8080/",
          "height": 385
        },
        "id": "wxUqhxTRQakc",
        "outputId": "45fd445c-3515-41d0-ccdd-4c144372f797"
      },
      "source": [
        "plt.figure(figsize=(12, 6))\n",
        "plt.plot(lossLst)\n",
        "plt.show()"
      ],
      "execution_count": 40,
      "outputs": [
        {
          "output_type": "display_data",
          "data": {
            "image/png": "[encoded data removed]",
            "text/plain": [
              "<Figure size 864x432 with 1 Axes>"
            ]
          },
          "metadata": {
            "tags": [],
            "needs_background": "light"
          }
        }
      ]
    },
    {
      "cell_type": "markdown",
      "metadata": {
        "id": "Rbj87PXpcWcM"
      },
      "source": [
        "# Test "
      ]
    },
    {
      "cell_type": "code",
      "metadata": {
        "id": "f7X3c7_veV_t",
        "colab": {
          "base_uri": "https://localhost:8080/"
        },
        "outputId": "85d5651a-cdf1-45f1-a978-d86c1ac2842a"
      },
      "source": [
        "tensorX = torch.FloatTensor(testX).to(device)\n",
        "tensorY_hat = torch.FloatTensor(testY_hat).to(device)\n",
        "tensorY = MyNet(tensorX)\n",
        "loss = loss_func(tensorY, tensorY_hat)\n",
        "print(\"%.2f\" % (float(loss)), end = \", \")"
      ],
      "execution_count": 42,
      "outputs": [
        {
          "output_type": "stream",
          "text": [
            "64023714332672.00, "
          ],
          "name": "stdout"
        }
      ]
    },
    {
      "cell_type": "code",
      "metadata": {
        "id": "UtPQOTEx-ZqI"
      },
      "source": [
        "testY = tensorY.detach().cpu().numpy()"
      ],
      "execution_count": 43,
      "outputs": []
    },
    {
      "cell_type": "code",
      "metadata": {
        "colab": {
          "base_uri": "https://localhost:8080/",
          "height": 385
        },
        "id": "xlIi1nADdMkY",
        "outputId": "ddcc18db-a3c3-4089-d7ba-4ed2a0c7e7e3"
      },
      "source": [
        "plt.figure(figsize=(18, 6))\n",
        "plt.scatter(testX, testY_hat, s=50, lw=0, color=\"red\")\n",
        "plt.scatter(testX, testY, s=50, lw=0, color=\"green\")\n",
        "plt.show()"
      ],
      "execution_count": 45,
      "outputs": [
        {
          "output_type": "display_data",
          "data": {
            "image/png": "[encoded data removed]",
            "text/plain": [
              "<Figure size 1296x432 with 1 Axes>"
            ]
          },
          "metadata": {
            "tags": [],
            "needs_background": "light"
          }
        }
      ]
    },
    {
      "cell_type": "code",
      "metadata": {
        "id": "1tq9f2hBeKyZ"
      },
      "source": [
        ""
      ],
      "execution_count": null,
      "outputs": []
    }
  ]
}