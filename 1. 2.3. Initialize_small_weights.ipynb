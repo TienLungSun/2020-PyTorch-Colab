{
  "nbformat": 4,
  "nbformat_minor": 0,
  "metadata": {
    "colab": {
      "name": "1. 2. MLP regression.ipynb",
      "provenance": [],
      "collapsed_sections": []
    },
    "kernelspec": {
      "display_name": "Python 3",
      "language": "python",
      "name": "python3"
    },
    "language_info": {
      "codemirror_mode": {
        "name": "ipython",
        "version": 3
      },
      "file_extension": ".py",
      "mimetype": "text/x-python",
      "name": "python",
      "nbconvert_exporter": "python",
      "pygments_lexer": "ipython3",
      "version": "3.6.10"
    },
    "accelerator": "GPU"
  },
  "cells": [
    {
      "cell_type": "code",
      "metadata": {
        "id": "__UqpfWmZk_M"
      },
      "source": [
        "import torch"
      ],
      "execution_count": 1,
      "outputs": []
    },
    {
      "cell_type": "code",
      "metadata": {
        "colab": {
          "base_uri": "https://localhost:8080/"
        },
        "id": "ABW0dcklZddi",
        "outputId": "85347b0f-843d-4eba-e4de-5229d9fb09a4"
      },
      "source": [
        "if(torch.cuda.is_available()):\n",
        "    device = torch.device(\"cuda\")\n",
        "    print(device, torch.cuda.get_device_name(0))\n",
        "else:\n",
        "    device= torch.device(\"cpu\")\n",
        "    print(device)"
      ],
      "execution_count": 2,
      "outputs": [
        {
          "output_type": "stream",
          "text": [
            "cuda Tesla T4\n"
          ],
          "name": "stdout"
        }
      ]
    },
    {
      "cell_type": "markdown",
      "metadata": {
        "id": "ECDyDJRDpTBX"
      },
      "source": [
        "#Generate data"
      ]
    },
    {
      "cell_type": "code",
      "metadata": {
        "id": "uJOamte-liVM"
      },
      "source": [
        "import random\r\n",
        "lstX = []\r\n",
        "lstY = []\r\n",
        "for x in range(-100, 100, 5):\r\n",
        "  lstX.append([x])\r\n",
        "  y = 3*x + random.uniform(0, 1)*100\r\n",
        "  lstY.append([y])"
      ],
      "execution_count": 3,
      "outputs": []
    },
    {
      "cell_type": "code",
      "metadata": {
        "id": "LEv62WfjaiMd",
        "colab": {
          "base_uri": "https://localhost:8080/"
        },
        "outputId": "629468de-e880-4a7e-d842-aeb5c059bfcf"
      },
      "source": [
        "import numpy as np\r\n",
        "numpyX = np.array(lstX)\r\n",
        "numpyY = np.array(lstY)\r\n",
        "print(numpyX.shape, numpyY.shape)"
      ],
      "execution_count": 4,
      "outputs": [
        {
          "output_type": "stream",
          "text": [
            "(40, 1) (40, 1)\n"
          ],
          "name": "stdout"
        }
      ]
    },
    {
      "cell_type": "code",
      "metadata": {
        "id": "8ZHmrQS-84st",
        "colab": {
          "base_uri": "https://localhost:8080/"
        },
        "outputId": "25afc249-826d-4b77-a65d-1183d671cb01"
      },
      "source": [
        "from sklearn.model_selection import train_test_split\r\n",
        "trainX, testX, trainY_hat, testY_hat = train_test_split(numpyX, numpyY, test_size=0.20, random_state=0)\r\n",
        "print(trainX.shape, testX.shape, trainY_hat.shape, testY_hat.shape)"
      ],
      "execution_count": 5,
      "outputs": [
        {
          "output_type": "stream",
          "text": [
            "(32, 1) (8, 1) (32, 1) (8, 1)\n"
          ],
          "name": "stdout"
        }
      ]
    },
    {
      "cell_type": "code",
      "metadata": {
        "id": "GyMi6ytR9T18",
        "colab": {
          "base_uri": "https://localhost:8080/",
          "height": 265
        },
        "outputId": "620b4e7e-a27f-487e-8914-ca22be05ae61"
      },
      "source": [
        "import matplotlib.pyplot as plt\r\n",
        "plt.figure(figsize=(12, 4))\r\n",
        "plt.scatter(trainX, trainY_hat, color = \"blue\")\r\n",
        "plt.scatter(testX, testY_hat, color = \"red\")\r\n",
        "plt.show()"
      ],
      "execution_count": 6,
      "outputs": [
        {
          "output_type": "display_data",
          "data": {
            "image/png": "[encoded data removed]",
            "text/plain": [
              "<Figure size 864x288 with 1 Axes>"
            ]
          },
          "metadata": {
            "tags": [],
            "needs_background": "light"
          }
        }
      ]
    },
    {
      "cell_type": "markdown",
      "metadata": {
        "id": "4s4g_ujnQajv"
      },
      "source": [
        "# Build NN"
      ]
    },
    {
      "cell_type": "code",
      "metadata": {
        "id": "a1kFKiHzQajW"
      },
      "source": [
        "import torch.nn as nn"
      ],
      "execution_count": 7,
      "outputs": []
    },
    {
      "cell_type": "code",
      "metadata": {
        "colab": {
          "base_uri": "https://localhost:8080/"
        },
        "id": "-MvLGgYaQajy",
        "outputId": "3eda49d5-05e0-4bf9-d7f6-0936c43ab349"
      },
      "source": [
        "MyNet = nn.Sequential(\n",
        "    nn.Linear(1, 100),\n",
        "    nn.ReLU(),\n",
        "    nn.Linear(100, 50),\n",
        "    nn.ReLU(),\n",
        "    nn.Linear(50, 1),\n",
        ")\n",
        "MyNet.to(device)\n",
        "print(MyNet)"
      ],
      "execution_count": 8,
      "outputs": [
        {
          "output_type": "stream",
          "text": [
            "Sequential(\n",
            "  (0): Linear(in_features=1, out_features=100, bias=True)\n",
            "  (1): ReLU()\n",
            "  (2): Linear(in_features=100, out_features=50, bias=True)\n",
            "  (3): ReLU()\n",
            "  (4): Linear(in_features=50, out_features=1, bias=True)\n",
            ")\n"
          ],
          "name": "stdout"
        }
      ]
    },
    {
      "cell_type": "code",
      "metadata": {
        "id": "AArEn3A-rU0H",
        "outputId": "7a3750b2-74b0-4a18-bbb7-395c0263617d",
        "colab": {
          "base_uri": "https://localhost:8080/"
        }
      },
      "source": [
        "for param in MyNet.parameters():\r\n",
        "  if param.requires_grad:\r\n",
        "    print(param.data)"
      ],
      "execution_count": 9,
      "outputs": [
        {
          "output_type": "stream",
          "text": [
            "tensor([[-3.6388e-01],\n",
            "        [-1.3515e-01],\n",
            "        [-8.0830e-01],\n",
            "        [-4.1849e-01],\n",
            "        [ 4.2882e-01],\n",
            "        [-4.9665e-01],\n",
            "        [-1.4656e-01],\n",
            "        [ 3.2165e-01],\n",
            "        [ 8.5845e-01],\n",
            "        [-1.9378e-02],\n",
            "        [ 7.0685e-01],\n",
            "        [-2.2404e-01],\n",
            "        [-4.4012e-02],\n",
            "        [ 1.8487e-01],\n",
            "        [-4.0105e-02],\n",
            "        [ 6.5612e-01],\n",
            "        [ 7.1465e-02],\n",
            "        [-9.8813e-01],\n",
            "        [ 7.3302e-04],\n",
            "        [-8.2332e-01],\n",
            "        [ 3.2103e-01],\n",
            "        [-9.2020e-01],\n",
            "        [ 9.5120e-01],\n",
            "        [-8.5271e-01],\n",
            "        [ 6.3402e-01],\n",
            "        [ 8.3629e-01],\n",
            "        [ 7.0440e-01],\n",
            "        [-5.5231e-01],\n",
            "        [ 2.1772e-01],\n",
            "        [ 2.6316e-01],\n",
            "        [-4.4797e-01],\n",
            "        [ 6.1076e-01],\n",
            "        [ 5.9473e-01],\n",
            "        [-9.6824e-01],\n",
            "        [ 1.2712e-01],\n",
            "        [ 2.4668e-01],\n",
            "        [ 5.2613e-01],\n",
            "        [-6.5229e-01],\n",
            "        [ 9.8555e-01],\n",
            "        [ 6.0403e-02],\n",
            "        [-7.2254e-01],\n",
            "        [ 2.7451e-01],\n",
            "        [-5.8171e-01],\n",
            "        [ 9.4496e-01],\n",
            "        [-5.9611e-01],\n",
            "        [ 1.3304e-01],\n",
            "        [ 2.6690e-01],\n",
            "        [ 3.8557e-01],\n",
            "        [ 5.4155e-02],\n",
            "        [ 1.6236e-02],\n",
            "        [ 2.8605e-01],\n",
            "        [ 3.5522e-01],\n",
            "        [-9.1721e-01],\n",
            "        [-6.5573e-01],\n",
            "        [ 8.9355e-01],\n",
            "        [ 2.4733e-01],\n",
            "        [ 4.5400e-01],\n",
            "        [-3.7115e-01],\n",
            "        [-3.2578e-01],\n",
            "        [ 3.3970e-01],\n",
            "        [-2.5114e-01],\n",
            "        [-4.1043e-01],\n",
            "        [-2.1648e-01],\n",
            "        [-1.9801e-01],\n",
            "        [ 7.3118e-01],\n",
            "        [-2.0645e-01],\n",
            "        [-9.9414e-01],\n",
            "        [ 7.0061e-01],\n",
            "        [-3.7526e-02],\n",
            "        [-4.8236e-01],\n",
            "        [ 8.4895e-01],\n",
            "        [ 3.8764e-01],\n",
            "        [-6.7099e-01],\n",
            "        [-8.9066e-01],\n",
            "        [-8.2200e-02],\n",
            "        [-3.3109e-01],\n",
            "        [-4.0726e-01],\n",
            "        [-6.0443e-01],\n",
            "        [-5.3079e-01],\n",
            "        [-4.7667e-01],\n",
            "        [ 2.8694e-02],\n",
            "        [-6.8969e-01],\n",
            "        [ 4.4153e-02],\n",
            "        [ 1.6632e-01],\n",
            "        [ 9.1762e-01],\n",
            "        [-2.1092e-01],\n",
            "        [-1.4059e-01],\n",
            "        [ 2.8676e-01],\n",
            "        [-6.7498e-02],\n",
            "        [ 3.4211e-01],\n",
            "        [-7.2443e-01],\n",
            "        [-5.2305e-01],\n",
            "        [ 8.0015e-01],\n",
            "        [-9.7646e-01],\n",
            "        [-5.2178e-01],\n",
            "        [-3.8635e-01],\n",
            "        [-5.4869e-01],\n",
            "        [-8.1068e-01],\n",
            "        [ 2.1804e-01],\n",
            "        [ 6.8655e-01]], device='cuda:0')\n",
            "tensor([ 0.8702, -0.9499, -0.2580,  0.7294, -0.8707,  0.7663,  0.3828,  0.7221,\n",
            "         0.5734,  0.1184, -0.8821, -0.1861,  0.8329, -0.9886, -0.6066, -0.5394,\n",
            "         0.9471,  0.2409,  0.4304, -0.8958, -0.1400, -0.4316,  0.5618,  0.3462,\n",
            "        -0.1562, -0.4434, -0.8318, -0.2173,  0.7272, -0.7238, -0.5447, -0.5588,\n",
            "        -0.3411, -0.9524,  0.6070, -0.1491, -0.8375, -0.8720,  0.1592,  0.8757,\n",
            "         0.0294, -0.1135,  0.3063,  0.0143, -0.5080, -0.6001,  0.5471,  0.6741,\n",
            "         0.0333,  0.5034,  0.3119, -0.0164, -0.9238, -0.2531, -0.7224, -0.6068,\n",
            "         0.9160,  0.0879, -0.7833,  0.0139,  0.2188,  0.4219, -0.3866, -0.7413,\n",
            "         0.5493, -0.8035, -0.9422, -0.6262,  0.3387, -0.2111, -0.7643,  0.4792,\n",
            "         0.5225, -0.3198, -0.5548, -0.2949,  0.5163,  0.1532,  0.4157,  0.6289,\n",
            "         0.0919, -0.0272,  0.0455,  0.0285, -0.3981, -0.3492,  0.8427, -0.3601,\n",
            "         0.5487, -0.7593,  0.9345,  0.7580, -0.9471,  0.3069,  0.7467, -0.0845,\n",
            "         0.2596, -0.6956,  0.4509,  0.4097], device='cuda:0')\n",
            "tensor([[ 0.0794,  0.0383, -0.0371,  ..., -0.0474, -0.0648, -0.0135],\n",
            "        [ 0.0345, -0.0785, -0.0351,  ...,  0.0231,  0.0972,  0.0188],\n",
            "        [-0.0284,  0.0108,  0.0296,  ...,  0.0287,  0.0763,  0.0624],\n",
            "        ...,\n",
            "        [ 0.0151,  0.0390,  0.0576,  ..., -0.0265,  0.0351, -0.0769],\n",
            "        [ 0.0906,  0.0604,  0.0537,  ..., -0.0824, -0.0158,  0.0510],\n",
            "        [ 0.0417, -0.0344,  0.0373,  ..., -0.0669,  0.0352,  0.0355]],\n",
            "       device='cuda:0')\n",
            "tensor([-0.0192,  0.0636, -0.0786, -0.0273, -0.0800,  0.0429,  0.0016, -0.0376,\n",
            "        -0.0318, -0.0792, -0.0676,  0.0175,  0.0276, -0.0002, -0.0265,  0.0616,\n",
            "         0.0305,  0.0427, -0.0065,  0.0240,  0.0438,  0.0975, -0.0908,  0.0161,\n",
            "        -0.0415,  0.0987,  0.0315,  0.0592,  0.0301, -0.0807, -0.0996, -0.0628,\n",
            "         0.0083,  0.0967,  0.0420,  0.0537,  0.0471,  0.0259, -0.0281, -0.0486,\n",
            "        -0.0354,  0.0423, -0.0686,  0.0695,  0.0099,  0.0249,  0.0764,  0.0075,\n",
            "        -0.0666,  0.0318], device='cuda:0')\n",
            "tensor([[ 0.0805, -0.0882,  0.1281,  0.1158, -0.0719,  0.0981, -0.0194,  0.0585,\n",
            "         -0.0204, -0.1157,  0.0897, -0.0295,  0.0074,  0.0587,  0.0564, -0.1269,\n",
            "          0.1314,  0.0157,  0.0299, -0.0090, -0.0969, -0.1209, -0.1103, -0.1342,\n",
            "          0.0768, -0.0844,  0.0260, -0.1295,  0.1239,  0.1102, -0.0720,  0.1026,\n",
            "          0.1279,  0.0469, -0.0174,  0.0615, -0.0717, -0.0893,  0.0541,  0.0327,\n",
            "         -0.0407,  0.0468,  0.0804,  0.1395, -0.0041, -0.0058,  0.0234, -0.0830,\n",
            "          0.0832,  0.0450]], device='cuda:0')\n",
            "tensor([0.0218], device='cuda:0')\n"
          ],
          "name": "stdout"
        }
      ]
    },
    {
      "cell_type": "code",
      "metadata": {
        "id": "8BYBD9YvsL3x",
        "outputId": "c8fb66b9-dd90-4f6f-a06e-36a149c2b2ed",
        "colab": {
          "base_uri": "https://localhost:8080/"
        }
      },
      "source": [
        "for name, param in MyNet.named_parameters():\r\n",
        "  if(param.requires_grad):\r\n",
        "    torch.nn.init.normal_(param, mean=0.0, std=0.002)\r\n",
        "    print(param)"
      ],
      "execution_count": 10,
      "outputs": [
        {
          "output_type": "stream",
          "text": [
            "Parameter containing:\n",
            "tensor([[ 8.4151e-04],\n",
            "        [ 4.9550e-03],\n",
            "        [ 2.4471e-04],\n",
            "        [-3.6172e-04],\n",
            "        [-7.6600e-05],\n",
            "        [ 1.1337e-03],\n",
            "        [ 4.8190e-04],\n",
            "        [ 3.5918e-04],\n",
            "        [-1.4908e-03],\n",
            "        [-9.8162e-04],\n",
            "        [-1.1934e-03],\n",
            "        [ 1.2003e-04],\n",
            "        [ 5.7608e-04],\n",
            "        [-1.9158e-04],\n",
            "        [-3.4546e-03],\n",
            "        [ 7.0318e-04],\n",
            "        [-5.7053e-04],\n",
            "        [ 9.7529e-04],\n",
            "        [-3.3110e-03],\n",
            "        [ 2.4968e-03],\n",
            "        [-3.9680e-03],\n",
            "        [ 1.7987e-03],\n",
            "        [-6.1838e-06],\n",
            "        [ 1.2498e-03],\n",
            "        [-1.4789e-04],\n",
            "        [ 1.1250e-03],\n",
            "        [ 1.8907e-03],\n",
            "        [-1.8977e-03],\n",
            "        [-2.6095e-03],\n",
            "        [-2.1138e-03],\n",
            "        [ 4.2384e-04],\n",
            "        [ 2.1021e-03],\n",
            "        [ 4.8667e-04],\n",
            "        [-7.3696e-03],\n",
            "        [ 1.9793e-03],\n",
            "        [-2.1027e-03],\n",
            "        [-1.3618e-04],\n",
            "        [-2.1560e-03],\n",
            "        [ 1.4053e-03],\n",
            "        [-3.2289e-05],\n",
            "        [-1.1013e-03],\n",
            "        [ 6.8814e-04],\n",
            "        [-3.9458e-04],\n",
            "        [ 5.5351e-03],\n",
            "        [ 1.3949e-04],\n",
            "        [ 7.9328e-04],\n",
            "        [-2.3083e-03],\n",
            "        [ 1.8236e-03],\n",
            "        [-1.0182e-03],\n",
            "        [-2.4288e-03],\n",
            "        [-1.0827e-03],\n",
            "        [-1.0462e-03],\n",
            "        [-1.0967e-04],\n",
            "        [-1.7653e-03],\n",
            "        [-1.9546e-03],\n",
            "        [-3.2641e-03],\n",
            "        [-1.8679e-03],\n",
            "        [ 1.0528e-03],\n",
            "        [-2.5450e-03],\n",
            "        [-8.5751e-04],\n",
            "        [-8.8982e-04],\n",
            "        [-1.5792e-04],\n",
            "        [-4.8266e-03],\n",
            "        [ 2.1065e-03],\n",
            "        [-7.4502e-04],\n",
            "        [-3.7347e-03],\n",
            "        [ 4.6454e-03],\n",
            "        [-2.1721e-03],\n",
            "        [-2.8344e-03],\n",
            "        [-5.8705e-04],\n",
            "        [ 1.9257e-03],\n",
            "        [-1.4947e-03],\n",
            "        [-2.3604e-03],\n",
            "        [-8.3406e-04],\n",
            "        [-2.3403e-04],\n",
            "        [ 5.1718e-04],\n",
            "        [ 2.3214e-03],\n",
            "        [-3.7783e-04],\n",
            "        [-1.6363e-03],\n",
            "        [ 3.8961e-03],\n",
            "        [ 4.0917e-03],\n",
            "        [-1.3775e-03],\n",
            "        [ 6.8669e-04],\n",
            "        [ 2.3450e-04],\n",
            "        [ 3.8737e-03],\n",
            "        [ 7.1055e-04],\n",
            "        [-3.5140e-04],\n",
            "        [ 1.2250e-03],\n",
            "        [-3.6254e-03],\n",
            "        [-1.7718e-03],\n",
            "        [-8.7300e-05],\n",
            "        [ 2.0984e-03],\n",
            "        [-1.9831e-03],\n",
            "        [ 2.3312e-03],\n",
            "        [ 1.5516e-03],\n",
            "        [ 1.0102e-03],\n",
            "        [-3.9277e-03],\n",
            "        [-1.0174e-03],\n",
            "        [-2.4370e-03],\n",
            "        [ 2.2489e-04]], device='cuda:0', requires_grad=True)\n",
            "Parameter containing:\n",
            "tensor([-1.2456e-03, -3.1252e-03,  3.5655e-04,  1.4538e-03,  2.7105e-03,\n",
            "        -2.8140e-03,  1.2072e-04,  1.2972e-03, -1.9736e-03,  1.2480e-03,\n",
            "         5.4770e-04, -1.2738e-03, -8.3710e-04, -4.4692e-04, -3.9163e-03,\n",
            "         5.0059e-03,  4.3639e-04,  2.9969e-03,  5.1349e-03,  4.0618e-03,\n",
            "        -2.7939e-03, -7.3058e-04,  3.0897e-03,  5.0818e-04,  1.0335e-03,\n",
            "         2.2168e-03, -7.0555e-04,  2.8117e-03,  1.3902e-03, -1.2921e-05,\n",
            "         2.1731e-03, -3.6560e-03, -2.7384e-03,  4.4828e-04, -1.9511e-03,\n",
            "        -1.1285e-03,  1.5926e-03, -2.3024e-03, -6.0584e-04,  2.0125e-03,\n",
            "        -4.1678e-03, -1.1299e-03, -5.6399e-04, -1.0229e-03, -5.7832e-04,\n",
            "        -5.0953e-04, -3.6415e-03,  1.3786e-03, -1.3318e-03, -3.3034e-03,\n",
            "        -7.3233e-04,  2.7442e-04,  1.7919e-03,  1.4712e-03, -9.3997e-04,\n",
            "         6.5903e-04,  2.8458e-03,  3.4043e-04,  2.4140e-03, -3.1423e-03,\n",
            "        -3.6499e-03,  1.9696e-03, -5.1202e-05, -3.0028e-04, -1.4416e-03,\n",
            "        -2.8936e-05, -3.0065e-03, -4.2831e-03, -2.2007e-03,  1.3801e-03,\n",
            "         1.8085e-03,  9.5248e-04, -2.3018e-04, -1.9088e-03,  1.9579e-03,\n",
            "        -3.0913e-03, -5.8626e-04, -1.9827e-03, -2.9056e-03,  1.5535e-03,\n",
            "        -3.6260e-03,  3.5242e-03,  2.4295e-03,  1.9064e-03,  7.1098e-04,\n",
            "         1.0362e-03, -2.2286e-03, -3.5807e-03, -7.1728e-04,  8.8715e-04,\n",
            "        -5.3315e-04,  2.7970e-03,  2.0240e-03, -3.1715e-03, -2.2046e-03,\n",
            "         1.0270e-03, -4.2840e-03,  3.0943e-03,  1.9740e-04,  2.4469e-03],\n",
            "       device='cuda:0', requires_grad=True)\n",
            "Parameter containing:\n",
            "tensor([[-0.0032, -0.0016, -0.0006,  ..., -0.0032,  0.0022,  0.0010],\n",
            "        [-0.0024,  0.0033, -0.0029,  ...,  0.0018,  0.0012,  0.0020],\n",
            "        [ 0.0014,  0.0007,  0.0018,  ..., -0.0016, -0.0003,  0.0026],\n",
            "        ...,\n",
            "        [ 0.0012,  0.0007, -0.0020,  ...,  0.0014,  0.0015, -0.0015],\n",
            "        [-0.0001,  0.0003,  0.0026,  ..., -0.0021, -0.0006,  0.0007],\n",
            "        [ 0.0013, -0.0038, -0.0011,  ..., -0.0021,  0.0054, -0.0033]],\n",
            "       device='cuda:0', requires_grad=True)\n",
            "Parameter containing:\n",
            "tensor([-9.3614e-04,  3.7707e-03,  2.6310e-03,  1.1216e-03,  6.1094e-04,\n",
            "         7.3576e-04, -4.6515e-04, -2.0756e-03,  1.6066e-03,  1.5808e-04,\n",
            "         7.1894e-04,  1.7457e-03,  1.2190e-04, -1.1011e-04, -2.1106e-03,\n",
            "         3.7380e-04,  2.1894e-04,  2.7984e-03,  3.8680e-03, -1.1031e-03,\n",
            "        -2.5991e-04, -4.9653e-03, -2.7402e-03, -8.6769e-04,  1.4787e-03,\n",
            "        -1.7135e-03,  1.7500e-03,  3.4410e-05, -9.7838e-04,  1.6521e-03,\n",
            "         2.1798e-03, -2.5968e-03,  9.9702e-04, -6.0232e-05, -1.1008e-03,\n",
            "         1.9680e-03,  2.0114e-03,  8.4621e-04, -1.4915e-03,  6.8590e-04,\n",
            "         2.7928e-04,  1.0533e-03,  2.3309e-03, -1.3456e-03,  3.0889e-04,\n",
            "         7.0298e-04,  3.2690e-04, -2.8375e-03, -1.1385e-04,  8.0244e-04],\n",
            "       device='cuda:0', requires_grad=True)\n",
            "Parameter containing:\n",
            "tensor([[ 1.7400e-03, -3.4000e-03, -5.8761e-04, -3.7835e-03,  2.9524e-03,\n",
            "          2.1032e-03,  1.6239e-03,  1.8033e-03, -1.4121e-03, -1.2555e-03,\n",
            "          1.7790e-04, -6.5744e-05,  1.0829e-03,  2.2326e-03, -2.2030e-03,\n",
            "         -2.5075e-04,  3.2463e-03, -8.6660e-04, -8.0776e-04,  1.7469e-03,\n",
            "          1.7306e-03,  1.9561e-03,  3.6653e-03,  3.2646e-03,  2.4832e-03,\n",
            "         -4.9971e-04, -5.4786e-04,  3.5137e-03,  5.4146e-04,  3.0939e-03,\n",
            "          2.7741e-04, -9.8622e-04,  1.5168e-03,  5.4276e-04,  3.4573e-04,\n",
            "         -2.6749e-03,  7.9518e-04,  1.1391e-03,  3.0263e-04, -1.6800e-03,\n",
            "         -3.5031e-03,  2.6041e-03,  4.0591e-03,  2.2299e-03,  2.2160e-03,\n",
            "         -5.1641e-04, -2.5741e-03,  2.0657e-03, -4.9565e-05,  1.2803e-03]],\n",
            "       device='cuda:0', requires_grad=True)\n",
            "Parameter containing:\n",
            "tensor([0.0004], device='cuda:0', requires_grad=True)\n"
          ],
          "name": "stdout"
        }
      ]
    },
    {
      "cell_type": "code",
      "metadata": {
        "id": "h9pgtjB2Qaj0"
      },
      "source": [
        "loss_func = torch.nn.MSELoss()"
      ],
      "execution_count": 11,
      "outputs": []
    },
    {
      "cell_type": "code",
      "metadata": {
        "id": "TfDLpOKCQajk"
      },
      "source": [
        "optimizer = torch.optim.Adam(MyNet.parameters(), lr=0.005)"
      ],
      "execution_count": 12,
      "outputs": []
    },
    {
      "cell_type": "markdown",
      "metadata": {
        "id": "yOKJidaQQakZ"
      },
      "source": [
        "# Train N epoches"
      ]
    },
    {
      "cell_type": "code",
      "metadata": {
        "id": "su8r11Ei_oKE"
      },
      "source": [
        "tensor_trainX = torch.FloatTensor(trainX).to(device)\r\n",
        "tensor_trainY_hat = torch.FloatTensor(trainY_hat).to(device)"
      ],
      "execution_count": 13,
      "outputs": []
    },
    {
      "cell_type": "code",
      "metadata": {
        "id": "zdpYknvbQaka"
      },
      "source": [
        "lossLst = []\n",
        "for epoch in range(1, 500):\n",
        "    tensor_trainY = MyNet(tensor_trainX)\n",
        "    loss = loss_func(tensor_trainY, tensor_trainY_hat)\n",
        "    lossLst.append(float(loss))\n",
        "    optimizer.zero_grad()\n",
        "    loss.backward()\n",
        "    optimizer.step()"
      ],
      "execution_count": 14,
      "outputs": []
    },
    {
      "cell_type": "code",
      "metadata": {
        "colab": {
          "base_uri": "https://localhost:8080/",
          "height": 374
        },
        "id": "wxUqhxTRQakc",
        "outputId": "076b648d-19b3-4e77-ad0f-9128b71433bc"
      },
      "source": [
        "plt.figure(figsize=(12, 6))\n",
        "plt.plot(lossLst)\n",
        "plt.show()"
      ],
      "execution_count": 15,
      "outputs": [
        {
          "output_type": "display_data",
          "data": {
            "image/png": "[encoded data removed]",
            "text/plain": [
              "<Figure size 864x432 with 1 Axes>"
            ]
          },
          "metadata": {
            "tags": [],
            "needs_background": "light"
          }
        }
      ]
    },
    {
      "cell_type": "markdown",
      "metadata": {
        "id": "kedZymCMuu8t"
      },
      "source": [
        "##Training data performance"
      ]
    },
    {
      "cell_type": "code",
      "metadata": {
        "colab": {
          "base_uri": "https://localhost:8080/"
        },
        "id": "60OD3A_Vu0i1",
        "outputId": "a88a50ad-6146-49cc-ec1d-f85de25104aa"
      },
      "source": [
        "tensor_trainY = MyNet(tensor_trainX)\r\n",
        "loss = loss_func(tensor_trainY, tensor_trainY_hat)\r\n",
        "print(\"%.2f\" % (float(loss)))"
      ],
      "execution_count": 16,
      "outputs": [
        {
          "output_type": "stream",
          "text": [
            "1012.30\n"
          ],
          "name": "stdout"
        }
      ]
    },
    {
      "cell_type": "code",
      "metadata": {
        "id": "S67p9ZD6umyZ"
      },
      "source": [
        "trainY = tensor_trainY.detach().cpu().numpy()"
      ],
      "execution_count": 17,
      "outputs": []
    },
    {
      "cell_type": "code",
      "metadata": {
        "colab": {
          "base_uri": "https://localhost:8080/",
          "height": 338
        },
        "id": "sz4hiopOuii4",
        "outputId": "9ba6541d-2cf5-4d71-9dcb-9b7212b40482"
      },
      "source": [
        "plt.figure(figsize=(18, 6))\r\n",
        "plt.scatter(trainX, trainY, s=50, lw=0, color=\"red\")\r\n",
        "plt.scatter(trainX, trainY_hat, s=50, lw=0, color=\"green\")\r\n",
        "plt.show()"
      ],
      "execution_count": 18,
      "outputs": [
        {
          "output_type": "display_data",
          "data": {
            "image/png": "[encoded data removed]",
            "text/plain": [
              "<Figure size 1296x432 with 1 Axes>"
            ]
          },
          "metadata": {
            "tags": [],
            "needs_background": "light"
          }
        }
      ]
    },
    {
      "cell_type": "markdown",
      "metadata": {
        "id": "Rbj87PXpcWcM"
      },
      "source": [
        "# Test data performance"
      ]
    },
    {
      "cell_type": "code",
      "metadata": {
        "id": "f7X3c7_veV_t",
        "colab": {
          "base_uri": "https://localhost:8080/"
        },
        "outputId": "dbbd59a2-6999-42cc-ec82-c6d51db2c80b"
      },
      "source": [
        "tensor_testX = torch.FloatTensor(testX).to(device)\n",
        "tensor_testY_hat = torch.FloatTensor(testY_hat).to(device)\n",
        "tensor_testY = MyNet(tensor_testX)\n",
        "loss = loss_func(tensor_testY, tensor_testY_hat)\n",
        "print(\"%.2f\" % (float(loss)))"
      ],
      "execution_count": 19,
      "outputs": [
        {
          "output_type": "stream",
          "text": [
            "1702.57\n"
          ],
          "name": "stdout"
        }
      ]
    },
    {
      "cell_type": "code",
      "metadata": {
        "id": "UtPQOTEx-ZqI"
      },
      "source": [
        "testY = tensor_testY.detach().cpu().numpy()"
      ],
      "execution_count": 20,
      "outputs": []
    },
    {
      "cell_type": "code",
      "metadata": {
        "colab": {
          "base_uri": "https://localhost:8080/",
          "height": 338
        },
        "id": "xlIi1nADdMkY",
        "outputId": "130b74b8-6d75-47d3-a5af-c30ed1586523"
      },
      "source": [
        "plt.figure(figsize=(18, 6))\n",
        "plt.scatter(testX, testY, s=50, lw=0, color=\"red\")\n",
        "plt.scatter(testX, testY_hat, s=50, lw=0, color=\"green\")\n",
        "plt.show()"
      ],
      "execution_count": 21,
      "outputs": [
        {
          "output_type": "display_data",
          "data": {
            "image/png": "[encoded data removed]",
            "text/plain": [
              "<Figure size 1296x432 with 1 Axes>"
            ]
          },
          "metadata": {
            "tags": [],
            "needs_background": "light"
          }
        }
      ]
    },
    {
      "cell_type": "code",
      "metadata": {
        "id": "1tq9f2hBeKyZ"
      },
      "source": [
        ""
      ],
      "execution_count": null,
      "outputs": []
    }
  ]
}