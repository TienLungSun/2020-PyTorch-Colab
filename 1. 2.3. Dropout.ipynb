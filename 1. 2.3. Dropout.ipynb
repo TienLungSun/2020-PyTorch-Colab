{
  "nbformat": 4,
  "nbformat_minor": 0,
  "metadata": {
    "colab": {
      "name": "1. 2. MLP regression.ipynb",
      "provenance": [],
      "collapsed_sections": []
    },
    "kernelspec": {
      "display_name": "Python 3",
      "language": "python",
      "name": "python3"
    },
    "language_info": {
      "codemirror_mode": {
        "name": "ipython",
        "version": 3
      },
      "file_extension": ".py",
      "mimetype": "text/x-python",
      "name": "python",
      "nbconvert_exporter": "python",
      "pygments_lexer": "ipython3",
      "version": "3.6.10"
    },
    "accelerator": "GPU"
  },
  "cells": [
    {
      "cell_type": "code",
      "metadata": {
        "id": "__UqpfWmZk_M"
      },
      "source": [
        "import torch"
      ],
      "execution_count": 1,
      "outputs": []
    },
    {
      "cell_type": "code",
      "metadata": {
        "colab": {
          "base_uri": "https://localhost:8080/"
        },
        "id": "ABW0dcklZddi",
        "outputId": "0cbb77a1-63b9-4289-f167-99307a8e50d3"
      },
      "source": [
        "if(torch.cuda.is_available()):\n",
        "    device = torch.device(\"cuda\")\n",
        "    print(device, torch.cuda.get_device_name(0))\n",
        "else:\n",
        "    device= torch.device(\"cpu\")\n",
        "    print(device)"
      ],
      "execution_count": 2,
      "outputs": [
        {
          "output_type": "stream",
          "text": [
            "cuda Tesla P100-PCIE-16GB\n"
          ],
          "name": "stdout"
        }
      ]
    },
    {
      "cell_type": "markdown",
      "metadata": {
        "id": "ECDyDJRDpTBX"
      },
      "source": [
        "#Generate data"
      ]
    },
    {
      "cell_type": "code",
      "metadata": {
        "id": "uJOamte-liVM"
      },
      "source": [
        "import random\r\n",
        "lstX = []\r\n",
        "lstY = []\r\n",
        "for x in range(-100, 100, 5):\r\n",
        "  lstX.append([x])\r\n",
        "  y = 3*x + random.uniform(0, 1)*100\r\n",
        "  lstY.append([y])"
      ],
      "execution_count": 3,
      "outputs": []
    },
    {
      "cell_type": "code",
      "metadata": {
        "id": "LEv62WfjaiMd",
        "colab": {
          "base_uri": "https://localhost:8080/"
        },
        "outputId": "41ec477a-fbe0-4865-aa5f-5f78808364bd"
      },
      "source": [
        "import numpy as np\r\n",
        "numpyX = np.array(lstX)\r\n",
        "numpyY = np.array(lstY)\r\n",
        "print(numpyX.shape, numpyY.shape)"
      ],
      "execution_count": 4,
      "outputs": [
        {
          "output_type": "stream",
          "text": [
            "(40, 1) (40, 1)\n"
          ],
          "name": "stdout"
        }
      ]
    },
    {
      "cell_type": "code",
      "metadata": {
        "id": "8ZHmrQS-84st",
        "colab": {
          "base_uri": "https://localhost:8080/"
        },
        "outputId": "3a6b34b8-5d2b-43b5-e9bb-fdbb0d0e5bd7"
      },
      "source": [
        "from sklearn.model_selection import train_test_split\r\n",
        "trainX, testX, trainY_hat, testY_hat = train_test_split(numpyX, numpyY, test_size=0.20, random_state=0)\r\n",
        "print(trainX.shape, testX.shape, trainY_hat.shape, testY_hat.shape)"
      ],
      "execution_count": 5,
      "outputs": [
        {
          "output_type": "stream",
          "text": [
            "(32, 1) (8, 1) (32, 1) (8, 1)\n"
          ],
          "name": "stdout"
        }
      ]
    },
    {
      "cell_type": "code",
      "metadata": {
        "id": "GyMi6ytR9T18",
        "colab": {
          "base_uri": "https://localhost:8080/",
          "height": 268
        },
        "outputId": "94ae19ce-2091-4618-9d87-033c1f8c5578"
      },
      "source": [
        "import matplotlib.pyplot as plt\r\n",
        "plt.figure(figsize=(12, 4))\r\n",
        "plt.scatter(trainX, trainY_hat, color = \"blue\")\r\n",
        "plt.scatter(testX, testY_hat, color = \"red\")\r\n",
        "plt.show()"
      ],
      "execution_count": 6,
      "outputs": [
        {
          "output_type": "display_data",
          "data": {
            "image/png": "[encoded data removed]",
            "text/plain": [
              "<Figure size 864x288 with 1 Axes>"
            ]
          },
          "metadata": {
            "tags": [],
            "needs_background": "light"
          }
        }
      ]
    },
    {
      "cell_type": "markdown",
      "metadata": {
        "id": "4s4g_ujnQajv"
      },
      "source": [
        "# Build NN with drop out"
      ]
    },
    {
      "cell_type": "code",
      "metadata": {
        "id": "a1kFKiHzQajW"
      },
      "source": [
        "import torch.nn as nn"
      ],
      "execution_count": 7,
      "outputs": []
    },
    {
      "cell_type": "code",
      "metadata": {
        "colab": {
          "base_uri": "https://localhost:8080/"
        },
        "id": "-MvLGgYaQajy",
        "outputId": "cfb4292c-d6d2-46f1-ac9e-0e30612f831d"
      },
      "source": [
        "MyNet = nn.Sequential(\n",
        "    nn.Linear(1, 100),\n",
        "    nn.ReLU(),\n",
        "    nn.Dropout(p=0.5),\n",
        "    nn.Linear(100, 50),\n",
        "    nn.ReLU(),\n",
        "    nn.Dropout(p=0.2),\n",
        "    nn.Linear(50, 1),\n",
        ")\n",
        "MyNet.to(device)\n",
        "print(MyNet)"
      ],
      "execution_count": 8,
      "outputs": [
        {
          "output_type": "stream",
          "text": [
            "Sequential(\n",
            "  (0): Linear(in_features=1, out_features=100, bias=True)\n",
            "  (1): ReLU()\n",
            "  (2): Dropout(p=0.5, inplace=False)\n",
            "  (3): Linear(in_features=100, out_features=50, bias=True)\n",
            "  (4): ReLU()\n",
            "  (5): Dropout(p=0.2, inplace=False)\n",
            "  (6): Linear(in_features=50, out_features=1, bias=True)\n",
            ")\n"
          ],
          "name": "stdout"
        }
      ]
    },
    {
      "cell_type": "code",
      "metadata": {
        "colab": {
          "base_uri": "https://localhost:8080/"
        },
        "id": "mHh2X1LtVZ5s",
        "outputId": "81d61fe4-7ff8-474b-8766-111c6797f91d"
      },
      "source": [
        "from torchsummary import summary\r\n",
        "summary(MyNet, input_size=(10, 1))"
      ],
      "execution_count": 9,
      "outputs": [
        {
          "output_type": "stream",
          "text": [
            "----------------------------------------------------------------\n",
            "        Layer (type)               Output Shape         Param #\n",
            "================================================================\n",
            "            Linear-1              [-1, 10, 100]             200\n",
            "              ReLU-2              [-1, 10, 100]               0\n",
            "           Dropout-3              [-1, 10, 100]               0\n",
            "            Linear-4               [-1, 10, 50]           5,050\n",
            "              ReLU-5               [-1, 10, 50]               0\n",
            "           Dropout-6               [-1, 10, 50]               0\n",
            "            Linear-7                [-1, 10, 1]              51\n",
            "================================================================\n",
            "Total params: 5,301\n",
            "Trainable params: 5,301\n",
            "Non-trainable params: 0\n",
            "----------------------------------------------------------------\n",
            "Input size (MB): 0.00\n",
            "Forward/backward pass size (MB): 0.03\n",
            "Params size (MB): 0.02\n",
            "Estimated Total Size (MB): 0.05\n",
            "----------------------------------------------------------------\n"
          ],
          "name": "stdout"
        }
      ]
    },
    {
      "cell_type": "code",
      "metadata": {
        "id": "h9pgtjB2Qaj0"
      },
      "source": [
        "loss_func = torch.nn.MSELoss()"
      ],
      "execution_count": 10,
      "outputs": []
    },
    {
      "cell_type": "code",
      "metadata": {
        "id": "TfDLpOKCQajk"
      },
      "source": [
        "optimizer = torch.optim.Adam(MyNet.parameters(), lr=0.005)"
      ],
      "execution_count": 11,
      "outputs": []
    },
    {
      "cell_type": "markdown",
      "metadata": {
        "id": "yOKJidaQQakZ"
      },
      "source": [
        "# Train N epoches with drop out"
      ]
    },
    {
      "cell_type": "code",
      "metadata": {
        "id": "MoHMsx4_yaDv"
      },
      "source": [
        "tensorX = torch.FloatTensor(trainX).to(device)\r\n",
        "tensorY_hat = torch.FloatTensor(trainY_hat).to(device)"
      ],
      "execution_count": 12,
      "outputs": []
    },
    {
      "cell_type": "code",
      "metadata": {
        "id": "zdpYknvbQaka"
      },
      "source": [
        "lossLst = []\n",
        "for epoch in range(1, 500):\n",
        "    tensorY = MyNet(tensorX)\n",
        "    loss = loss_func(tensorY_hat, tensorY)\n",
        "    lossLst.append(float(loss))\n",
        "    optimizer.zero_grad()\n",
        "    loss.backward()\n",
        "    optimizer.step()"
      ],
      "execution_count": 13,
      "outputs": []
    },
    {
      "cell_type": "code",
      "metadata": {
        "colab": {
          "base_uri": "https://localhost:8080/",
          "height": 375
        },
        "id": "wxUqhxTRQakc",
        "outputId": "71aef6d9-43d9-4eac-8566-b8b5b96e55c9"
      },
      "source": [
        "plt.figure(figsize=(12, 6))\n",
        "plt.plot(lossLst)\n",
        "plt.show()"
      ],
      "execution_count": 14,
      "outputs": [
        {
          "output_type": "display_data",
          "data": {
            "image/png": "[encoded data removed]",
            "text/plain": [
              "<Figure size 864x432 with 1 Axes>"
            ]
          },
          "metadata": {
            "tags": [],
            "needs_background": "light"
          }
        }
      ]
    },
    {
      "cell_type": "markdown",
      "metadata": {
        "id": "24nn9DuIOaTa"
      },
      "source": [
        "#model.eval() will turn model to test mode and PyTorch will automatically handle weight scaling of the dropout layer"
      ]
    },
    {
      "cell_type": "code",
      "metadata": {
        "id": "qzGXflWIOZfq",
        "outputId": "8f33683a-ec16-4b2e-8b5c-125e68f9d33e",
        "colab": {
          "base_uri": "https://localhost:8080/"
        }
      },
      "source": [
        "MyNet.eval()"
      ],
      "execution_count": 15,
      "outputs": [
        {
          "output_type": "execute_result",
          "data": {
            "text/plain": [
              "Sequential(\n",
              "  (0): Linear(in_features=1, out_features=100, bias=True)\n",
              "  (1): ReLU()\n",
              "  (2): Dropout(p=0.5, inplace=False)\n",
              "  (3): Linear(in_features=100, out_features=50, bias=True)\n",
              "  (4): ReLU()\n",
              "  (5): Dropout(p=0.2, inplace=False)\n",
              "  (6): Linear(in_features=50, out_features=1, bias=True)\n",
              ")"
            ]
          },
          "metadata": {
            "tags": []
          },
          "execution_count": 15
        }
      ]
    },
    {
      "cell_type": "markdown",
      "metadata": {
        "id": "kedZymCMuu8t"
      },
      "source": [
        "##Training data performance"
      ]
    },
    {
      "cell_type": "code",
      "metadata": {
        "colab": {
          "base_uri": "https://localhost:8080/"
        },
        "id": "60OD3A_Vu0i1",
        "outputId": "769a657c-a43c-4249-9e76-37148eee2497"
      },
      "source": [
        "tensorY = MyNet(tensorX)\r\n",
        "loss = loss_func(tensorY, tensorY_hat)\r\n",
        "print(\"%.2f\" % (float(loss)))"
      ],
      "execution_count": 16,
      "outputs": [
        {
          "output_type": "stream",
          "text": [
            "1368.40\n"
          ],
          "name": "stdout"
        }
      ]
    },
    {
      "cell_type": "code",
      "metadata": {
        "id": "S67p9ZD6umyZ"
      },
      "source": [
        "trainY = tensorY.detach().cpu().numpy()"
      ],
      "execution_count": 17,
      "outputs": []
    },
    {
      "cell_type": "code",
      "metadata": {
        "colab": {
          "base_uri": "https://localhost:8080/",
          "height": 357
        },
        "id": "sz4hiopOuii4",
        "outputId": "c432caa2-1b35-42da-f4b4-b6163463266b"
      },
      "source": [
        "plt.figure(figsize=(18, 6))\r\n",
        "plt.scatter(trainX, trainY, s=50, lw=0, color=\"red\")\r\n",
        "plt.scatter(trainX, trainY_hat, s=50, lw=0, color=\"green\")\r\n",
        "plt.show()"
      ],
      "execution_count": 18,
      "outputs": [
        {
          "output_type": "display_data",
          "data": {
            "image/png": "[encoded data removed]",
            "text/plain": [
              "<Figure size 1296x432 with 1 Axes>"
            ]
          },
          "metadata": {
            "tags": [],
            "needs_background": "light"
          }
        }
      ]
    },
    {
      "cell_type": "markdown",
      "metadata": {
        "id": "Rbj87PXpcWcM"
      },
      "source": [
        "# Test "
      ]
    },
    {
      "cell_type": "code",
      "metadata": {
        "id": "f7X3c7_veV_t",
        "colab": {
          "base_uri": "https://localhost:8080/"
        },
        "outputId": "2db9744f-35b9-487f-fe88-adcad249570d"
      },
      "source": [
        "tensorX = torch.FloatTensor(testX).to(device)\n",
        "tensorY_hat = torch.FloatTensor(testY_hat).to(device)\n",
        "tensorY = MyNet(tensorX)\n",
        "loss = loss_func(tensorY, tensorY_hat)\n",
        "print(\"%.2f\" % (float(loss)))"
      ],
      "execution_count": 19,
      "outputs": [
        {
          "output_type": "stream",
          "text": [
            "1254.87\n"
          ],
          "name": "stdout"
        }
      ]
    },
    {
      "cell_type": "code",
      "metadata": {
        "id": "UtPQOTEx-ZqI"
      },
      "source": [
        "testY = tensorY.detach().cpu().numpy()"
      ],
      "execution_count": 20,
      "outputs": []
    },
    {
      "cell_type": "code",
      "metadata": {
        "colab": {
          "base_uri": "https://localhost:8080/",
          "height": 355
        },
        "id": "xlIi1nADdMkY",
        "outputId": "857468b3-5646-45f5-a654-cbd8043ef427"
      },
      "source": [
        "plt.figure(figsize=(18, 6))\n",
        "plt.scatter(testX, testY, s=50, lw=0, color=\"red\")\n",
        "plt.scatter(testX, testY_hat, s=50, lw=0, color=\"green\")\n",
        "plt.show()"
      ],
      "execution_count": 21,
      "outputs": [
        {
          "output_type": "display_data",
          "data": {
            "image/png": "[encoded data removed]",
            "text/plain": [
              "<Figure size 1296x432 with 1 Axes>"
            ]
          },
          "metadata": {
            "tags": [],
            "needs_background": "light"
          }
        }
      ]
    },
    {
      "cell_type": "code",
      "metadata": {
        "id": "1tq9f2hBeKyZ"
      },
      "source": [
        ""
      ],
      "execution_count": null,
      "outputs": []
    }
  ]
}