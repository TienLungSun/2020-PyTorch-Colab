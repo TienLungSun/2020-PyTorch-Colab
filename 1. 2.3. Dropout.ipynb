{
  "nbformat": 4,
  "nbformat_minor": 0,
  "metadata": {
    "colab": {
      "name": "1. 2. MLP regression.ipynb",
      "provenance": [],
      "collapsed_sections": []
    },
    "kernelspec": {
      "display_name": "Python 3",
      "language": "python",
      "name": "python3"
    },
    "language_info": {
      "codemirror_mode": {
        "name": "ipython",
        "version": 3
      },
      "file_extension": ".py",
      "mimetype": "text/x-python",
      "name": "python",
      "nbconvert_exporter": "python",
      "pygments_lexer": "ipython3",
      "version": "3.6.10"
    },
    "accelerator": "GPU"
  },
  "cells": [
    {
      "cell_type": "code",
      "metadata": {
        "id": "__UqpfWmZk_M"
      },
      "source": [
        "import torch"
      ],
      "execution_count": 2,
      "outputs": []
    },
    {
      "cell_type": "code",
      "metadata": {
        "colab": {
          "base_uri": "https://localhost:8080/"
        },
        "id": "ABW0dcklZddi",
        "outputId": "7865e858-ba80-4df6-a8d8-eac2bdf7bf2d"
      },
      "source": [
        "if(torch.cuda.is_available()):\n",
        "    device = torch.device(\"cuda\")\n",
        "    print(device, torch.cuda.get_device_name(0))\n",
        "else:\n",
        "    device= torch.device(\"cpu\")\n",
        "    print(device)"
      ],
      "execution_count": 3,
      "outputs": [
        {
          "output_type": "stream",
          "text": [
            "cuda Tesla T4\n"
          ],
          "name": "stdout"
        }
      ]
    },
    {
      "cell_type": "markdown",
      "metadata": {
        "id": "ECDyDJRDpTBX"
      },
      "source": [
        "#Generate data"
      ]
    },
    {
      "cell_type": "code",
      "metadata": {
        "id": "uJOamte-liVM"
      },
      "source": [
        "import random\r\n",
        "lstX = []\r\n",
        "lstY = []\r\n",
        "for x in range(-100, 100, 5):\r\n",
        "  lstX.append([x])\r\n",
        "  y = 3*x + random.uniform(0, 1)*100\r\n",
        "  lstY.append([y])"
      ],
      "execution_count": 4,
      "outputs": []
    },
    {
      "cell_type": "code",
      "metadata": {
        "id": "LEv62WfjaiMd",
        "colab": {
          "base_uri": "https://localhost:8080/"
        },
        "outputId": "0507a602-91aa-41f9-8788-343c03072ef9"
      },
      "source": [
        "import numpy as np\r\n",
        "numpyX = np.array(lstX)\r\n",
        "numpyY = np.array(lstY)\r\n",
        "print(numpyX.shape, numpyY.shape)"
      ],
      "execution_count": 5,
      "outputs": [
        {
          "output_type": "stream",
          "text": [
            "(40, 1) (40, 1)\n"
          ],
          "name": "stdout"
        }
      ]
    },
    {
      "cell_type": "code",
      "metadata": {
        "id": "8ZHmrQS-84st",
        "colab": {
          "base_uri": "https://localhost:8080/"
        },
        "outputId": "bffc3a50-fc1c-4009-a783-9411bcc0894e"
      },
      "source": [
        "from sklearn.model_selection import train_test_split\r\n",
        "trainX, testX, trainY_hat, testY_hat = train_test_split(numpyX, numpyY, test_size=0.20, random_state=0)\r\n",
        "print(trainX.shape, testX.shape, trainY_hat.shape, testY_hat.shape)"
      ],
      "execution_count": 6,
      "outputs": [
        {
          "output_type": "stream",
          "text": [
            "(32, 1) (8, 1) (32, 1) (8, 1)\n"
          ],
          "name": "stdout"
        }
      ]
    },
    {
      "cell_type": "code",
      "metadata": {
        "id": "GyMi6ytR9T18",
        "colab": {
          "base_uri": "https://localhost:8080/",
          "height": 265
        },
        "outputId": "bb82bd16-1fc0-451d-c2b9-4383a0cf7bbc"
      },
      "source": [
        "import matplotlib.pyplot as plt\r\n",
        "plt.figure(figsize=(12, 4))\r\n",
        "plt.scatter(trainX, trainY_hat, color = \"blue\")\r\n",
        "plt.scatter(testX, testY_hat, color = \"red\")\r\n",
        "plt.show()"
      ],
      "execution_count": 7,
      "outputs": [
        {
          "output_type": "display_data",
          "data": {
            "image/png": "[encoded data removed]",
            "text/plain": [
              "<Figure size 864x288 with 1 Axes>"
            ]
          },
          "metadata": {
            "tags": [],
            "needs_background": "light"
          }
        }
      ]
    },
    {
      "cell_type": "markdown",
      "metadata": {
        "id": "4s4g_ujnQajv"
      },
      "source": [
        "# Build NN with dropout"
      ]
    },
    {
      "cell_type": "code",
      "metadata": {
        "id": "a1kFKiHzQajW"
      },
      "source": [
        "import torch.nn as nn"
      ],
      "execution_count": 8,
      "outputs": []
    },
    {
      "cell_type": "code",
      "metadata": {
        "colab": {
          "base_uri": "https://localhost:8080/"
        },
        "id": "-MvLGgYaQajy",
        "outputId": "4ea9a007-85f9-4f21-e103-4e9ca38bb256"
      },
      "source": [
        "MyNet = nn.Sequential(\n",
        "    nn.Linear(1, 100),\n",
        "    nn.ReLU(),\n",
        "    nn.Linear(100, 50),\n",
        "    nn.ReLU(),\n",
        "    nn.Linear(50, 1),\n",
        ")\n",
        "MyNet.to(device)\n",
        "print(MyNet)"
      ],
      "execution_count": 9,
      "outputs": [
        {
          "output_type": "stream",
          "text": [
            "Sequential(\n",
            "  (0): Linear(in_features=1, out_features=100, bias=True)\n",
            "  (1): ReLU()\n",
            "  (2): Linear(in_features=100, out_features=50, bias=True)\n",
            "  (3): ReLU()\n",
            "  (4): Linear(in_features=50, out_features=1, bias=True)\n",
            ")\n"
          ],
          "name": "stdout"
        }
      ]
    },
    {
      "cell_type": "code",
      "metadata": {
        "colab": {
          "base_uri": "https://localhost:8080/"
        },
        "id": "mHh2X1LtVZ5s",
        "outputId": "b48dd48d-9c7d-4dcc-f68c-f15e2bfcd472"
      },
      "source": [
        "from torchsummary import summary\r\n",
        "summary(MyNet, input_size=(10, 1))"
      ],
      "execution_count": 15,
      "outputs": [
        {
          "output_type": "stream",
          "text": [
            "----------------------------------------------------------------\n",
            "        Layer (type)               Output Shape         Param #\n",
            "================================================================\n",
            "            Linear-1              [-1, 10, 100]             200\n",
            "              ReLU-2              [-1, 10, 100]               0\n",
            "            Linear-3               [-1, 10, 50]           5,050\n",
            "              ReLU-4               [-1, 10, 50]               0\n",
            "            Linear-5                [-1, 10, 1]              51\n",
            "================================================================\n",
            "Total params: 5,301\n",
            "Trainable params: 5,301\n",
            "Non-trainable params: 0\n",
            "----------------------------------------------------------------\n",
            "Input size (MB): 0.00\n",
            "Forward/backward pass size (MB): 0.02\n",
            "Params size (MB): 0.02\n",
            "Estimated Total Size (MB): 0.04\n",
            "----------------------------------------------------------------\n"
          ],
          "name": "stdout"
        }
      ]
    },
    {
      "cell_type": "code",
      "metadata": {
        "id": "h9pgtjB2Qaj0"
      },
      "source": [
        "loss_func = torch.nn.MSELoss()"
      ],
      "execution_count": 16,
      "outputs": []
    },
    {
      "cell_type": "code",
      "metadata": {
        "id": "TfDLpOKCQajk"
      },
      "source": [
        "optimizer = torch.optim.Adam(MyNet.parameters(), lr=0.005)"
      ],
      "execution_count": 17,
      "outputs": []
    },
    {
      "cell_type": "markdown",
      "metadata": {
        "id": "v8VoQN9YRWXD"
      },
      "source": [
        "#practice drop out"
      ]
    },
    {
      "cell_type": "code",
      "metadata": {
        "id": "su8r11Ei_oKE"
      },
      "source": [
        "tensorX = torch.FloatTensor(trainX).to(device)\r\n",
        "tensorY_hat = torch.FloatTensor(trainY_hat).to(device)"
      ],
      "execution_count": 18,
      "outputs": []
    },
    {
      "cell_type": "code",
      "metadata": {
        "id": "g70am9sCRjq3"
      },
      "source": [
        "dropout25 = nn.Dropout(0.9)"
      ],
      "execution_count": 34,
      "outputs": []
    },
    {
      "cell_type": "code",
      "metadata": {
        "id": "GanHOwAyRdw_",
        "outputId": "0c61cdd4-9586-4c36-e3c7-c2f3d55e7f62",
        "colab": {
          "base_uri": "https://localhost:8080/"
        }
      },
      "source": [
        "L1out = MyNet[0](tensorX)\r\n",
        "print(L1out)"
      ],
      "execution_count": 37,
      "outputs": [
        {
          "output_type": "stream",
          "text": [
            "tensor([[ -4.2605,   3.7367,  -5.8937,  ...,  10.2985,  -9.5970,  -2.7481],\n",
            "        [ 26.6907,   1.4253,  35.8843,  ..., -43.0575,  41.3264,  -8.8071],\n",
            "        [ 21.0632,   1.8456,  28.2883,  ..., -33.3564,  32.0676,  -7.7055],\n",
            "        ...,\n",
            "        [ 52.0145,  -0.4658,  70.0664,  ..., -86.7124,  82.9910, -13.7644],\n",
            "        [-46.4667,   6.8886, -62.8638,  ...,  83.0567, -79.0381,   5.5141],\n",
            "        [-54.9079,   7.5190, -74.2578,  ...,  97.6083, -92.9263,   7.1665]],\n",
            "       device='cuda:0', grad_fn=<AddmmBackward>)\n"
          ],
          "name": "stdout"
        }
      ]
    },
    {
      "cell_type": "code",
      "metadata": {
        "id": "LCzIA6cgRsEZ",
        "outputId": "55fa4c07-6410-411d-d798-50a2f953e049",
        "colab": {
          "base_uri": "https://localhost:8080/"
        }
      },
      "source": [
        "L1out = dropout25(L1out)\r\n",
        "L1out"
      ],
      "execution_count": 38,
      "outputs": [
        {
          "output_type": "execute_result",
          "data": {
            "text/plain": [
              "tensor([[ -42.6049,    0.0000,    0.0000,  ...,    0.0000,    0.0000,\n",
              "            0.0000],\n",
              "        [   0.0000,   14.2531,    0.0000,  ..., -430.5751,    0.0000,\n",
              "            0.0000],\n",
              "        [   0.0000,    0.0000,    0.0000,  ...,    0.0000,    0.0000,\n",
              "            0.0000],\n",
              "        ...,\n",
              "        [   0.0000,    0.0000,    0.0000,  ...,    0.0000,  829.9104,\n",
              "            0.0000],\n",
              "        [-464.6669,    0.0000,    0.0000,  ...,    0.0000,    0.0000,\n",
              "            0.0000],\n",
              "        [   0.0000,    0.0000,    0.0000,  ...,    0.0000,    0.0000,\n",
              "            0.0000]], device='cuda:0', grad_fn=<FusedDropoutBackward>)"
            ]
          },
          "metadata": {
            "tags": []
          },
          "execution_count": 38
        }
      ]
    },
    {
      "cell_type": "markdown",
      "metadata": {
        "id": "yOKJidaQQakZ"
      },
      "source": [
        "# Train N epoches"
      ]
    },
    {
      "cell_type": "code",
      "metadata": {
        "id": "zdpYknvbQaka"
      },
      "source": [
        "lossLst = []\n",
        "for epoch in range(1, 500):\n",
        "    tensorX.dropout = nn.Dropout(0.25)\n",
        "    tensorY = MyNet(tensorX)\n",
        "    loss = loss_func(tensorY_hat, tensorY)\n",
        "    loss1 = float(loss)\n",
        "    #print(\"%.2f\" % (loss1), end = \", \")\n",
        "    lossLst.append(loss1)\n",
        "    optimizer.zero_grad()\n",
        "    loss.backward()\n",
        "    optimizer.step()"
      ],
      "execution_count": 20,
      "outputs": []
    },
    {
      "cell_type": "code",
      "metadata": {
        "colab": {
          "base_uri": "https://localhost:8080/",
          "height": 374
        },
        "id": "wxUqhxTRQakc",
        "outputId": "4d5bf9ff-9c46-49f0-d81f-2d168f798720"
      },
      "source": [
        "plt.figure(figsize=(12, 6))\n",
        "plt.plot(lossLst)\n",
        "plt.show()"
      ],
      "execution_count": 21,
      "outputs": [
        {
          "output_type": "display_data",
          "data": {
            "image/png": "[encoded data removed]",
            "text/plain": [
              "<Figure size 864x432 with 1 Axes>"
            ]
          },
          "metadata": {
            "tags": [],
            "needs_background": "light"
          }
        }
      ]
    },
    {
      "cell_type": "markdown",
      "metadata": {
        "id": "kedZymCMuu8t"
      },
      "source": [
        "##Training data performance"
      ]
    },
    {
      "cell_type": "code",
      "metadata": {
        "colab": {
          "base_uri": "https://localhost:8080/"
        },
        "id": "60OD3A_Vu0i1",
        "outputId": "5f4ee283-2660-48a1-eac3-f81022f6efc7"
      },
      "source": [
        "tensorY = MyNet(tensorX)\r\n",
        "loss = loss_func(tensorY, tensorY_hat)\r\n",
        "print(\"%.2f\" % (float(loss)))"
      ],
      "execution_count": null,
      "outputs": [
        {
          "output_type": "stream",
          "text": [
            "612.99\n"
          ],
          "name": "stdout"
        }
      ]
    },
    {
      "cell_type": "code",
      "metadata": {
        "id": "S67p9ZD6umyZ"
      },
      "source": [
        "trainY = tensorY.detach().cpu().numpy()"
      ],
      "execution_count": null,
      "outputs": []
    },
    {
      "cell_type": "code",
      "metadata": {
        "colab": {
          "base_uri": "https://localhost:8080/",
          "height": 353
        },
        "id": "sz4hiopOuii4",
        "outputId": "98b3c35f-6ae2-4930-c56d-60e2214214b4"
      },
      "source": [
        "plt.figure(figsize=(18, 6))\r\n",
        "plt.scatter(trainX, trainY, s=50, lw=0, color=\"red\")\r\n",
        "plt.scatter(trainX, trainY_hat, s=50, lw=0, color=\"green\")\r\n",
        "plt.show()"
      ],
      "execution_count": null,
      "outputs": [
        {
          "output_type": "display_data",
          "data": {
            "image/png": "[encoded data removed]",
            "text/plain": [
              "<Figure size 1296x432 with 1 Axes>"
            ]
          },
          "metadata": {
            "tags": [],
            "needs_background": "light"
          }
        }
      ]
    },
    {
      "cell_type": "markdown",
      "metadata": {
        "id": "Rbj87PXpcWcM"
      },
      "source": [
        "# Test "
      ]
    },
    {
      "cell_type": "code",
      "metadata": {
        "id": "f7X3c7_veV_t",
        "colab": {
          "base_uri": "https://localhost:8080/"
        },
        "outputId": "6928c33b-8079-449f-c273-cbb29b89d323"
      },
      "source": [
        "tensorX = torch.FloatTensor(testX).to(device)\n",
        "tensorY_hat = torch.FloatTensor(testY_hat).to(device)\n",
        "tensorY = MyNet(tensorX)\n",
        "loss = loss_func(tensorY, tensorY_hat)\n",
        "print(\"%.2f\" % (float(loss)))"
      ],
      "execution_count": null,
      "outputs": [
        {
          "output_type": "stream",
          "text": [
            "1701.62\n"
          ],
          "name": "stdout"
        }
      ]
    },
    {
      "cell_type": "code",
      "metadata": {
        "id": "UtPQOTEx-ZqI"
      },
      "source": [
        "testY = tensorY.detach().cpu().numpy()"
      ],
      "execution_count": null,
      "outputs": []
    },
    {
      "cell_type": "code",
      "metadata": {
        "colab": {
          "base_uri": "https://localhost:8080/",
          "height": 353
        },
        "id": "xlIi1nADdMkY",
        "outputId": "b0b5fd49-b93d-42dc-a264-3a0653b10d90"
      },
      "source": [
        "plt.figure(figsize=(18, 6))\n",
        "plt.scatter(testX, testY, s=50, lw=0, color=\"red\")\n",
        "plt.scatter(testX, testY_hat, s=50, lw=0, color=\"green\")\n",
        "plt.show()"
      ],
      "execution_count": null,
      "outputs": [
        {
          "output_type": "display_data",
          "data": {
            "image/png": "[encoded data removed]",
            "text/plain": [
              "<Figure size 1296x432 with 1 Axes>"
            ]
          },
          "metadata": {
            "tags": [],
            "needs_background": "light"
          }
        }
      ]
    },
    {
      "cell_type": "code",
      "metadata": {
        "id": "1tq9f2hBeKyZ"
      },
      "source": [
        ""
      ],
      "execution_count": null,
      "outputs": []
    }
  ]
}